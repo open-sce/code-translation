{
 "cells": [
  {
   "cell_type": "markdown",
   "id": "65f85f03-5f28-441d-a5a4-23d79f0c4b06",
   "metadata": {},
   "source": [
    "# SAS to Python code conversion with Jupyter magic"
   ]
  },
  {
   "cell_type": "markdown",
   "id": "58ce4ab3-ee09-4f02-9e0b-2bcf79e83c0e",
   "metadata": {},
   "source": [
    "### Create a \"sasconvert\" magic function\n",
    "Saved as a python file (sasconver.py)"
   ]
  },
  {
   "cell_type": "code",
   "execution_count": 8,
   "id": "41ac3154-762c-43c3-bde0-bef16d1e0f96",
   "metadata": {
    "tags": []
   },
   "outputs": [
    {
     "name": "stdout",
     "output_type": "stream",
     "text": [
      "Overwriting ./sasconvert.py\n"
     ]
    }
   ],
   "source": [
    "%%writefile ./sasconvert.py\n",
    "from IPython.display import display, HTML\n",
    "import os\n",
    "import openai\n",
    "\n",
    "openai.api_key = os.getenv(\"OPENAI_API_KEY\")\n",
    "gptModel=\"text-davinci-003\"\n",
    "\n",
    "def codeBlock(text):\n",
    "    fmt_prefix='<code style=\"font:DejaVu Sans Mono,consolas,monaco,monospaced;background-color: #eee;border: 1px solid #999;display: block;padding: 20px;\" id=\"codeText\">'\n",
    "    fmt_suffix='</code>'\n",
    "    html_code_block=fmt_prefix+text+fmt_suffix\n",
    "    return html_code_block\n",
    "\n",
    "def sasconvert(options, prompt):\n",
    "    basePrompt=\"##### Translate this program from SAS into Python\\n### SAS\\n\"\n",
    "    gptPrompt=basePrompt+prompt+\"\\n### Python\"\n",
    "    response = openai.Completion.create(\n",
    "      model=gptModel,\n",
    "      prompt=gptPrompt,\n",
    "      temperature=0,\n",
    "      max_tokens=150,\n",
    "      top_p=1.0,\n",
    "      frequency_penalty=0.0,\n",
    "      presence_penalty=0.0,\n",
    "      stop=[\"###\"]\n",
    "    )\n",
    "    #print(response[\"choices\"][0][\"text\"])\n",
    "    response_text=response[\"choices\"][0][\"text\"]\n",
    "    formatted_output=codeBlock(response_text)\n",
    "    display(HTML(formatted_output))\n",
    "\n",
    "def load_ipython_extension(ipython):\n",
    "    ipython.register_magic_function(sasconvert, 'cell')"
   ]
  },
  {
   "cell_type": "markdown",
   "id": "51c4f8bb-8df9-4ae2-98a3-6ae4d41c5589",
   "metadata": {},
   "source": [
    "### Make sure the file is in our path"
   ]
  },
  {
   "cell_type": "code",
   "execution_count": 9,
   "id": "3dbdfaa4-6fa0-4d41-842a-6f9ac31f36f7",
   "metadata": {
    "tags": []
   },
   "outputs": [],
   "source": [
    "import sys\n",
    "sys.path.append('.')"
   ]
  },
  {
   "cell_type": "markdown",
   "id": "1dd20685-e53f-418d-ae29-5d3c438c5ebd",
   "metadata": {},
   "source": [
    "### Load the file as a Jupyter extension"
   ]
  },
  {
   "cell_type": "code",
   "execution_count": 5,
   "id": "cfe24bb2-9fc3-40e0-a0c3-a5a1eb109b33",
   "metadata": {},
   "outputs": [],
   "source": [
    "%load_ext sasconvert"
   ]
  },
  {
   "cell_type": "markdown",
   "id": "23b49ffe-b1fe-4419-8961-5e0431cdbe59",
   "metadata": {
    "tags": []
   },
   "source": [
    "### Run it!"
   ]
  },
  {
   "cell_type": "code",
   "execution_count": 11,
   "id": "701c94d5-3eb9-47c1-8ba2-90e860af5a1f",
   "metadata": {},
   "outputs": [
    {
     "data": {
      "text/html": [
       "<code style=\"font:DejaVu Sans Mono,consolas,monaco,monospaced;background-color: #eee;border: 1px solid #999;display: block;padding: 20px;\" id=\"codeText\">\n",
       "# Here is my working Python program\n",
       "# Simple Linear Regression and scatter plot\n",
       "import matplotlib.pyplot as plt\n",
       "\n",
       "# Create data\n",
       "id = [1, 2, 3, 4, 5, 6, 7, 8, 9]\n",
       "age = [20, 20, 20, 25, 25, 25, 31, 31, 31]\n",
       "load = [11.45, 10.42, 11.14, 10.84, 11.17, 10.54, 9.47, 9.19, 9.54]\n",
       "\n",
       "# Plot data\n",
       "plt.scatter(age, load, marker='*')\n",
       "plt.xlabel('Age')\n",
       "plt.</code>"
      ],
      "text/plain": [
       "<IPython.core.display.HTML object>"
      ]
     },
     "metadata": {},
     "output_type": "display_data"
    }
   ],
   "source": [
    "%%sasconvert\n",
    "/* Here is my working SAS program */\n",
    "/* Simple Linear Regression and scatter plot */\n",
    "data crack;\n",
    "  input id age load;\n",
    "  datalines;\n",
    "  1  20 11.45\n",
    "  2  20 10.42\n",
    "  3  20 11.14\n",
    "  4  25 10.84\n",
    "  5  25 11.17\n",
    "  6  25 10.54\n",
    "  7  31  9.47\n",
    "  8  31  9.19\n",
    "  9  31  9.54\n",
    "  ;\n",
    " \n",
    "proc plot data=crack;\n",
    "  plot load * age = \"*\";\n",
    "run;"
   ]
  },
  {
   "cell_type": "markdown",
   "id": "c2b154b3-178d-4f57-9127-3b393168319b",
   "metadata": {},
   "source": [
    "---\n",
    "### Copy the output above and paste it into the cell below and run it"
   ]
  },
  {
   "cell_type": "code",
   "execution_count": 12,
   "id": "d8a4eda4-c6fb-4c0d-8132-76c09ba29d66",
   "metadata": {},
   "outputs": [
    {
     "data": {
      "text/plain": [
       "Text(0.5, 0, 'Age')"
      ]
     },
     "execution_count": 12,
     "metadata": {},
     "output_type": "execute_result"
    },
    {
     "data": {
      "image/png": "[encoded data removed]",
      "text/plain": [
       "<Figure size 432x288 with 1 Axes>"
      ]
     },
     "metadata": {
      "needs_background": "light"
     },
     "output_type": "display_data"
    }
   ],
   "source": [
    "# Here is my working Python program\n",
    "# Simple Linear Regression and scatter plot\n",
    "import matplotlib.pyplot as plt\n",
    "\n",
    "# Create data\n",
    "id = [1, 2, 3, 4, 5, 6, 7, 8, 9]\n",
    "age = [20, 20, 20, 25, 25, 25, 31, 31, 31]\n",
    "load = [11.45, 10.42, 11.14, 10.84, 11.17, 10.54, 9.47, 9.19, 9.54]\n",
    "\n",
    "# Plot data\n",
    "plt.scatter(age, load, marker='*')\n",
    "plt.xlabel('Age')"
   ]
  },
  {
   "cell_type": "code",
   "execution_count": null,
   "id": "2db17d1b-76b6-41c9-bbac-7b83859033f2",
   "metadata": {},
   "outputs": [],
   "source": []
  }
 ],
 "metadata": {
  "kernelspec": {
   "display_name": "Python 3 (ipykernel)",
   "language": "python",
   "name": "python3"
  },
  "language_info": {
   "codemirror_mode": {
    "name": "ipython",
    "version": 3
   },
   "file_extension": ".py",
   "mimetype": "text/x-python",
   "name": "python",
   "nbconvert_exporter": "python",
   "pygments_lexer": "ipython3",
   "version": "3.8.12"
  }
 },
 "nbformat": 4,
 "nbformat_minor": 5
}
