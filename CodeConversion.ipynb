{
 "cells": [
  {
   "cell_type": "markdown",
   "id": "65f85f03-5f28-441d-a5a4-23d79f0c4b06",
   "metadata": {},
   "source": [
    "# Code Conversion with LLM's"
   ]
  },
  {
   "cell_type": "markdown",
   "id": "58ce4ab3-ee09-4f02-9e0b-2bcf79e83c0e",
   "metadata": {
    "tags": []
   },
   "source": [
    "### Setup the project"
   ]
  },
  {
   "cell_type": "markdown",
   "id": "a4fc7187-8541-4514-843f-a52f28411749",
   "metadata": {},
   "source": [
    "This project requires the openai package  \n",
    "```pip install --user openai```  \n",
    "and an environment variable set with your [OpenAI API Key](https://platform.openai.com/account/api-keys)  \n",
    "export OPENAI_API_KEY=\\<insert key here\\>"
   ]
  },
  {
   "cell_type": "code",
   "execution_count": 6,
   "id": "e7263113-bb5d-4ea9-b4b1-6401f5826f2e",
   "metadata": {
    "tags": []
   },
   "outputs": [],
   "source": [
    "import os\n",
    "import openai\n",
    "\n",
    "# OPENAI_API_KEY is a user environment variable set in your Domino account settings\n",
    "openai.api_key = os.getenv(\"OPENAI_API_KEY\")\n",
    "llmModel=\"text-davinci-003\"\n",
    "langFrom=\"R\"\n",
    "langTo=\"Python\""
   ]
  },
  {
   "cell_type": "markdown",
   "id": "23b49ffe-b1fe-4419-8961-5e0431cdbe59",
   "metadata": {
    "tags": []
   },
   "source": [
    "### Setup the prompt for the conversion\n",
    "Paste the code you want to convert between the triple quotes below\n",
    "\n",
    "For the demo we are using an R snippet from [www.geeksforgeeks.org](https://www.geeksforgeeks.org/simple-linear-regression-using-r/)\n"
   ]
  },
  {
   "cell_type": "code",
   "execution_count": 7,
   "id": "701c94d5-3eb9-47c1-8ba2-90e860af5a1f",
   "metadata": {
    "tags": []
   },
   "outputs": [],
   "source": [
    "code=\"\"\"\n",
    "# Create the data frame\n",
    "data <- data.frame(\n",
    "  Years_Exp = c(1.1, 1.3, 1.5, 2.0, 2.2, 2.9, 3.0, 3.2, 3.2, 3.7),\n",
    "  Salary = c(39343.00, 46205.00, 37731.00, 43525.00,\n",
    "             39891.00, 56642.00, 60150.00, 54445.00, 64445.00, 57189.00)\n",
    ")\n",
    "\n",
    "plot(data$Years_Exp, data$Salary,\n",
    "     xlab = \"Years Experienced\",\n",
    "     ylab = \"Salary\",\n",
    "     main = \"Scatter Plot of Years Experienced vs Salary\")\n",
    "\"\"\""
   ]
  },
  {
   "cell_type": "markdown",
   "id": "dc90eaa5-6cd7-4326-aa81-e56d04fd95a3",
   "metadata": {},
   "source": [
    "### Run the conversion"
   ]
  },
  {
   "cell_type": "code",
   "execution_count": 8,
   "id": "1ccbd45e-bc44-46a4-88e9-1b99e3a3c699",
   "metadata": {
    "tags": []
   },
   "outputs": [],
   "source": [
    "llmPrompt=\"##### Translate this program from {} into {}\\n### {}\".format(langFrom, langTo, langFrom)+code+\"### {}\".format(langTo)\n",
    "response = openai.Completion.create(\n",
    "  model=llmModel,\n",
    "  prompt=llmPrompt,\n",
    "  temperature=0,\n",
    "  max_tokens=300,\n",
    "  top_p=1.0,\n",
    "  frequency_penalty=0.0,\n",
    "  presence_penalty=0.0,\n",
    "  stop=[\"###\"]\n",
    ")"
   ]
  },
  {
   "cell_type": "markdown",
   "id": "88e2c800-3193-4330-b850-7a089723c5b2",
   "metadata": {},
   "source": [
    "# Results"
   ]
  },
  {
   "cell_type": "code",
   "execution_count": 9,
   "id": "e731b45c-895e-43e9-8db0-445e0065d4b2",
   "metadata": {
    "tags": []
   },
   "outputs": [
    {
     "name": "stdout",
     "output_type": "stream",
     "text": [
      "\n",
      "import pandas as pd\n",
      "import matplotlib.pyplot as plt\n",
      "\n",
      "# Create the data frame\n",
      "data = pd.DataFrame({\n",
      "    'Years_Exp': [1.1, 1.3, 1.5, 2.0, 2.2, 2.9, 3.0, 3.2, 3.2, 3.7],\n",
      "    'Salary': [39343.00, 46205.00, 37731.00, 43525.00, 39891.00, 56642.00, 60150.00, 54445.00, 64445.00, 57189.00]\n",
      "})\n",
      "\n",
      "plt.scatter(data['Years_Exp'], data['Salary'])\n",
      "plt.xlabel('Years Experienced')\n",
      "plt.ylabel('Salary')\n",
      "plt.title('Scatter Plot of Years Experienced vs Salary')\n",
      "plt.show()\n"
     ]
    }
   ],
   "source": [
    "print(response[\"choices\"][0][\"text\"])"
   ]
  },
  {
   "cell_type": "markdown",
   "id": "e8d70058-e626-463e-80c4-8dda7e431438",
   "metadata": {},
   "source": [
    "---\n",
    "**Copy the code above into the cell below**  \n",
    "Then run the cell to verify a working conversion"
   ]
  },
  {
   "cell_type": "code",
   "execution_count": 11,
   "id": "6fe75182-4d3a-4de4-8c6e-31ab86bf5c4a",
   "metadata": {
    "tags": []
   },
   "outputs": [
    {
     "data": {
      "image/png": "[encoded data removed]",
      "text/plain": [
       "<Figure size 640x480 with 1 Axes>"
      ]
     },
     "metadata": {},
     "output_type": "display_data"
    }
   ],
   "source": [
    "import matplotlib.pyplot as plt\n",
    "\n",
    "# Create the data frame\n",
    "data = pd.DataFrame({\n",
    "    'Years_Exp': [1.1, 1.3, 1.5, 2.0, 2.2, 2.9, 3.0, 3.2, 3.2, 3.7],\n",
    "    'Salary': [39343.00, 46205.00, 37731.00, 43525.00, 39891.00, 56642.00, 60150.00, 54445.00, 64445.00, 57189.00]\n",
    "})\n",
    "\n",
    "plt.scatter(data['Years_Exp'], data['Salary'])\n",
    "plt.xlabel('Years Experienced')\n",
    "plt.ylabel('Salary')\n",
    "plt.title('Scatter Plot of Years Experienced vs Salary')\n",
    "plt.show()"
   ]
  },
  {
   "cell_type": "code",
   "execution_count": null,
   "id": "f56a0133-494c-4786-8f8a-afc0ee4ccbb8",
   "metadata": {},
   "outputs": [],
   "source": []
  }
 ],
 "metadata": {
  "kernelspec": {
   "display_name": "Python 3 (ipykernel)",
   "language": "python",
   "name": "python3"
  },
  "language_info": {
   "codemirror_mode": {
    "name": "ipython",
    "version": 3
   },
   "file_extension": ".py",
   "mimetype": "text/x-python",
   "name": "python",
   "nbconvert_exporter": "python",
   "pygments_lexer": "ipython3",
   "version": "3.9.16"
  }
 },
 "nbformat": 4,
 "nbformat_minor": 5
}
